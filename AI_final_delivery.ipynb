{
 "cells": [
  {
   "cell_type": "markdown",
   "source": [
    "This file is the main file for the project. It contains the code for the following:\n",
    "Getting the constants from the file constants.py\n",
    "Using that data to create a model, specifically an MDP (Markov decision Process)\n",
    "Using that model we will create the optimal policy.\n"
   ],
   "metadata": {
    "collapsed": false
   }
  },
  {
   "cell_type": "code",
   "execution_count": 1,
   "outputs": [],
   "source": [
    "import numpy as np\n",
    "\n",
    "from constants import *\n",
    "from thermostat import Thermostat"
   ],
   "metadata": {
    "collapsed": false,
    "ExecuteTime": {
     "end_time": "2023-05-02T08:34:14.778507Z",
     "start_time": "2023-05-02T08:34:14.462222Z"
    }
   }
  },
  {
   "cell_type": "markdown",
   "source": [
    "Setting up the variables we will need for internal use."
   ],
   "metadata": {
    "collapsed": false
   }
  },
  {
   "cell_type": "code",
   "execution_count": 2,
   "outputs": [
    {
     "name": "stdout",
     "output_type": "stream",
     "text": [
      "[16.0, 16.5, 17.0, 17.5, 18.0, 18.5, 19.0, 19.5, 20.0, 20.5, 21.0, 21.5, 22.0, 22.5, 23.0, 23.5, 24.0, 24.5, 25.0]\n"
     ]
    }
   ],
   "source": [
    "temperatures_list = []\n",
    "state_cost = {}\n",
    "i = MIN_TEMP\n",
    "while i < MAX_TEMP + TEMPERATURE_STEP:\n",
    "    temperatures_list.append(float(i))\n",
    "    state_cost[float(i)] = 0\n",
    "    i += TEMPERATURE_STEP\n",
    "\n",
    "iterated_states = []\n",
    "actions_taken = []\n",
    "# print(temperatures_list)"
   ],
   "metadata": {
    "collapsed": false,
    "ExecuteTime": {
     "end_time": "2023-05-02T08:34:14.785057Z",
     "start_time": "2023-05-02T08:34:14.675384Z"
    }
   }
  },
  {
   "cell_type": "markdown",
   "source": [
    "We will now get the information we need form the user, specifically the actual temperature of the room, as we know the desired temperature is 22 degrees Cº."
   ],
   "metadata": {
    "collapsed": false
   }
  },
  {
   "cell_type": "code",
   "execution_count": null,
   "outputs": [],
   "source": [
    "temperature = input(\"Enter the actual temperature: \")\n",
    "thermostat = Thermostat(int(temperature))\n",
    "temperature = int(temperature)\n",
    "initial_state = MIN_TEMP\n",
    "objective = DESIRED_TEMP"
   ],
   "metadata": {
    "collapsed": false
   }
  }
 ],
 "metadata": {
  "kernelspec": {
   "display_name": "Python 3",
   "language": "python",
   "name": "python3"
  },
  "language_info": {
   "codemirror_mode": {
    "name": "ipython",
    "version": 2
   },
   "file_extension": ".py",
   "mimetype": "text/x-python",
   "name": "python",
   "nbconvert_exporter": "python",
   "pygments_lexer": "ipython2",
   "version": "2.7.6"
  }
 },
 "nbformat": 4,
 "nbformat_minor": 0
}
